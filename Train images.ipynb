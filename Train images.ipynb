{
 "cells": [
  {
   "cell_type": "code",
   "execution_count": 1,
   "metadata": {},
   "outputs": [],
   "source": [
    "import pandas as pd\n",
    "from CLIP_images import main"
   ]
  },
  {
   "cell_type": "code",
   "execution_count": 2,
   "metadata": {},
   "outputs": [
    {
     "name": "stdout",
     "output_type": "stream",
     "text": [
      "Requirement already satisfied: timm in /Users/mgaulia/miniforge3/envs/torch/lib/python3.8/site-packages (0.6.12)\n",
      "Requirement already satisfied: torch>=1.7 in /Users/mgaulia/miniforge3/envs/torch/lib/python3.8/site-packages (from timm) (2.0.1)\n",
      "Requirement already satisfied: torchvision in /Users/mgaulia/miniforge3/envs/torch/lib/python3.8/site-packages (from timm) (0.16.0.dev20230325)\n",
      "Requirement already satisfied: huggingface-hub in /Users/mgaulia/miniforge3/envs/torch/lib/python3.8/site-packages (from timm) (0.5.1)\n",
      "Requirement already satisfied: pyyaml in /Users/mgaulia/miniforge3/envs/torch/lib/python3.8/site-packages (from timm) (6.0)\n",
      "Requirement already satisfied: filelock in /Users/mgaulia/miniforge3/envs/torch/lib/python3.8/site-packages (from torch>=1.7->timm) (3.6.0)\n",
      "Requirement already satisfied: typing-extensions in /Users/mgaulia/miniforge3/envs/torch/lib/python3.8/site-packages (from torch>=1.7->timm) (4.1.1)\n",
      "Requirement already satisfied: sympy in /Users/mgaulia/miniforge3/envs/torch/lib/python3.8/site-packages (from torch>=1.7->timm) (1.11.1)\n",
      "Requirement already satisfied: networkx in /Users/mgaulia/miniforge3/envs/torch/lib/python3.8/site-packages (from torch>=1.7->timm) (3.0)\n",
      "Requirement already satisfied: jinja2 in /Users/mgaulia/miniforge3/envs/torch/lib/python3.8/site-packages (from torch>=1.7->timm) (3.0.3)\n",
      "Requirement already satisfied: packaging>=20.9 in /Users/mgaulia/miniforge3/envs/torch/lib/python3.8/site-packages (from huggingface-hub->timm) (21.3)\n",
      "Requirement already satisfied: tqdm in /Users/mgaulia/miniforge3/envs/torch/lib/python3.8/site-packages (from huggingface-hub->timm) (4.64.0)\n",
      "Requirement already satisfied: requests in /Users/mgaulia/miniforge3/envs/torch/lib/python3.8/site-packages (from huggingface-hub->timm) (2.28.2)\n",
      "Requirement already satisfied: numpy in /Users/mgaulia/miniforge3/envs/torch/lib/python3.8/site-packages (from torchvision->timm) (1.21.6)\n",
      "Requirement already satisfied: pillow!=8.3.*,>=5.3.0 in /Users/mgaulia/miniforge3/envs/torch/lib/python3.8/site-packages (from torchvision->timm) (9.0.0)\n",
      "Requirement already satisfied: pyparsing!=3.0.5,>=2.0.2 in /Users/mgaulia/miniforge3/envs/torch/lib/python3.8/site-packages (from packaging>=20.9->huggingface-hub->timm) (3.0.6)\n",
      "Requirement already satisfied: MarkupSafe>=2.0 in /Users/mgaulia/miniforge3/envs/torch/lib/python3.8/site-packages (from jinja2->torch>=1.7->timm) (2.0.1)\n",
      "Requirement already satisfied: charset-normalizer<4,>=2 in /Users/mgaulia/miniforge3/envs/torch/lib/python3.8/site-packages (from requests->huggingface-hub->timm) (2.0.9)\n",
      "Requirement already satisfied: urllib3<1.27,>=1.21.1 in /Users/mgaulia/miniforge3/envs/torch/lib/python3.8/site-packages (from requests->huggingface-hub->timm) (1.26.7)\n",
      "Requirement already satisfied: certifi>=2017.4.17 in /Users/mgaulia/miniforge3/envs/torch/lib/python3.8/site-packages (from requests->huggingface-hub->timm) (2022.12.7)\n",
      "Requirement already satisfied: idna<4,>=2.5 in /Users/mgaulia/miniforge3/envs/torch/lib/python3.8/site-packages (from requests->huggingface-hub->timm) (3.1)\n",
      "Requirement already satisfied: mpmath>=0.19 in /Users/mgaulia/miniforge3/envs/torch/lib/python3.8/site-packages (from sympy->torch>=1.7->timm) (1.3.0)\n",
      "Note: you may need to restart the kernel to use updated packages.\n"
     ]
    }
   ],
   "source": [
    "pip install timm"
   ]
  },
  {
   "cell_type": "code",
   "execution_count": 2,
   "metadata": {},
   "outputs": [],
   "source": [
    "tweets = pd.read_csv('train_val_data/XRP_train.csv', lineterminator='\\n', nrows = 10000)['tweet'].values\n",
    "caption_numbers = [i for i in range(tweets.shape[0])]\n",
    "imagenames = [str(i) + '.png' for i in caption_numbers]\n",
    "ids = [id_ for id_ in range(len(tweets) // 5) for _ in range(5)]"
   ]
  },
  {
   "cell_type": "code",
   "execution_count": 3,
   "metadata": {},
   "outputs": [
    {
     "data": {
      "text/html": [
       "<div>\n",
       "<style scoped>\n",
       "    .dataframe tbody tr th:only-of-type {\n",
       "        vertical-align: middle;\n",
       "    }\n",
       "\n",
       "    .dataframe tbody tr th {\n",
       "        vertical-align: top;\n",
       "    }\n",
       "\n",
       "    .dataframe thead th {\n",
       "        text-align: right;\n",
       "    }\n",
       "</style>\n",
       "<table border=\"1\" class=\"dataframe\">\n",
       "  <thead>\n",
       "    <tr style=\"text-align: right;\">\n",
       "      <th></th>\n",
       "      <th>image</th>\n",
       "      <th>caption_number</th>\n",
       "      <th>caption</th>\n",
       "      <th>id</th>\n",
       "    </tr>\n",
       "  </thead>\n",
       "  <tbody>\n",
       "    <tr>\n",
       "      <th>0</th>\n",
       "      <td>0.png</td>\n",
       "      <td>0</td>\n",
       "      <td>@Kevin_Cage_ $XRP - 👆🏾 that's me when I think ...</td>\n",
       "      <td>0</td>\n",
       "    </tr>\n",
       "    <tr>\n",
       "      <th>1</th>\n",
       "      <td>1.png</td>\n",
       "      <td>1</td>\n",
       "      <td>@davidgokhshtein $XRP my friend !!</td>\n",
       "      <td>0</td>\n",
       "    </tr>\n",
       "    <tr>\n",
       "      <th>2</th>\n",
       "      <td>2.png</td>\n",
       "      <td>2</td>\n",
       "      <td>Got my $XRP community poster framed and hung! ...</td>\n",
       "      <td>0</td>\n",
       "    </tr>\n",
       "    <tr>\n",
       "      <th>3</th>\n",
       "      <td>3.png</td>\n",
       "      <td>3</td>\n",
       "      <td>Can someone who’s good at math explain to me w...</td>\n",
       "      <td>0</td>\n",
       "    </tr>\n",
       "    <tr>\n",
       "      <th>4</th>\n",
       "      <td>4.png</td>\n",
       "      <td>4</td>\n",
       "      <td>$xrp is a massive shitcoin</td>\n",
       "      <td>0</td>\n",
       "    </tr>\n",
       "    <tr>\n",
       "      <th>...</th>\n",
       "      <td>...</td>\n",
       "      <td>...</td>\n",
       "      <td>...</td>\n",
       "      <td>...</td>\n",
       "    </tr>\n",
       "    <tr>\n",
       "      <th>9995</th>\n",
       "      <td>9995.png</td>\n",
       "      <td>9995</td>\n",
       "      <td>Following the quote buy the rumors, sell the n...</td>\n",
       "      <td>1999</td>\n",
       "    </tr>\n",
       "    <tr>\n",
       "      <th>9996</th>\n",
       "      <td>9996.png</td>\n",
       "      <td>9996</td>\n",
       "      <td>What Is Stellar - #XLM? Where to Buy It? and  ...</td>\n",
       "      <td>1999</td>\n",
       "    </tr>\n",
       "    <tr>\n",
       "      <th>9997</th>\n",
       "      <td>9997.png</td>\n",
       "      <td>9997</td>\n",
       "      <td>@BakkupBradley we need @elonmusk to type $XRP ...</td>\n",
       "      <td>1999</td>\n",
       "    </tr>\n",
       "    <tr>\n",
       "      <th>9998</th>\n",
       "      <td>9998.png</td>\n",
       "      <td>9998</td>\n",
       "      <td>$xrp just passed $0.60 because a large discord...</td>\n",
       "      <td>1999</td>\n",
       "    </tr>\n",
       "    <tr>\n",
       "      <th>9999</th>\n",
       "      <td>9999.png</td>\n",
       "      <td>9999</td>\n",
       "      <td>No other #crypto can print a green boner like ...</td>\n",
       "      <td>1999</td>\n",
       "    </tr>\n",
       "  </tbody>\n",
       "</table>\n",
       "<p>10000 rows × 4 columns</p>\n",
       "</div>"
      ],
      "text/plain": [
       "         image  caption_number  \\\n",
       "0        0.png               0   \n",
       "1        1.png               1   \n",
       "2        2.png               2   \n",
       "3        3.png               3   \n",
       "4        4.png               4   \n",
       "...        ...             ...   \n",
       "9995  9995.png            9995   \n",
       "9996  9996.png            9996   \n",
       "9997  9997.png            9997   \n",
       "9998  9998.png            9998   \n",
       "9999  9999.png            9999   \n",
       "\n",
       "                                                caption    id  \n",
       "0     @Kevin_Cage_ $XRP - 👆🏾 that's me when I think ...     0  \n",
       "1                    @davidgokhshtein $XRP my friend !!     0  \n",
       "2     Got my $XRP community poster framed and hung! ...     0  \n",
       "3     Can someone who’s good at math explain to me w...     0  \n",
       "4                            $xrp is a massive shitcoin     0  \n",
       "...                                                 ...   ...  \n",
       "9995  Following the quote buy the rumors, sell the n...  1999  \n",
       "9996  What Is Stellar - #XLM? Where to Buy It? and  ...  1999  \n",
       "9997  @BakkupBradley we need @elonmusk to type $XRP ...  1999  \n",
       "9998  $xrp just passed $0.60 because a large discord...  1999  \n",
       "9999  No other #crypto can print a green boner like ...  1999  \n",
       "\n",
       "[10000 rows x 4 columns]"
      ]
     },
     "execution_count": 3,
     "metadata": {},
     "output_type": "execute_result"
    }
   ],
   "source": [
    "data = pd.DataFrame(\n",
    "    {\n",
    "        'image': imagenames,\n",
    "        'caption_number': caption_numbers,\n",
    "        'caption': tweets,\n",
    "        'id': ids,\n",
    "    }\n",
    ")\n",
    "data"
   ]
  },
  {
   "cell_type": "code",
   "execution_count": 4,
   "metadata": {},
   "outputs": [],
   "source": [
    "data.to_csv(\"xrp_captions.csv\", index = False)"
   ]
  },
  {
   "cell_type": "code",
   "execution_count": null,
   "metadata": {},
   "outputs": [
    {
     "name": "stderr",
     "output_type": "stream",
     "text": [
      "Some weights of the model checkpoint at distilbert-base-uncased were not used when initializing DistilBertModel: ['vocab_transform.weight', 'vocab_layer_norm.weight', 'vocab_transform.bias', 'vocab_layer_norm.bias', 'vocab_projector.weight', 'vocab_projector.bias']\n",
      "- This IS expected if you are initializing DistilBertModel from the checkpoint of a model trained on another task or with another architecture (e.g. initializing a BertForSequenceClassification model from a BertForPreTraining model).\n",
      "- This IS NOT expected if you are initializing DistilBertModel from the checkpoint of a model that you expect to be exactly identical (initializing a BertForSequenceClassification model from a BertForSequenceClassification model).\n"
     ]
    },
    {
     "name": "stdout",
     "output_type": "stream",
     "text": [
      "Epoch: 1\n"
     ]
    },
    {
     "data": {
      "application/vnd.jupyter.widget-view+json": {
       "model_id": "0eb42afbce864370adbdfb77fd909f32",
       "version_major": 2,
       "version_minor": 0
      },
      "text/plain": [
       "  0%|          | 0/250 [00:00<?, ?it/s]"
      ]
     },
     "metadata": {},
     "output_type": "display_data"
    }
   ],
   "source": [
    "main()"
   ]
  }
 ],
 "metadata": {
  "kernelspec": {
   "display_name": "Python 3 (ipykernel)",
   "language": "python",
   "name": "python3"
  },
  "language_info": {
   "codemirror_mode": {
    "name": "ipython",
    "version": 3
   },
   "file_extension": ".py",
   "mimetype": "text/x-python",
   "name": "python",
   "nbconvert_exporter": "python",
   "pygments_lexer": "ipython3",
   "version": "3.8.13"
  }
 },
 "nbformat": 4,
 "nbformat_minor": 2
}
