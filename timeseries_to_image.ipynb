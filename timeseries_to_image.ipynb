{
 "cells": [
  {
   "cell_type": "code",
   "execution_count": 15,
   "metadata": {},
   "outputs": [],
   "source": [
    "import pandas as pd\n",
    "import librosa\n",
    "import librosa.display\n",
    "import numpy as np\n",
    "import matplotlib.pyplot as plt\n",
    "from tqdm import tqdm\n",
    "\n",
    "BTC_OUT_DATA_FOLDER = \"librosa-images/\"\n",
    "ETH_OUT_DATA_FOLDER = \"eth-librosa-images/\"\n",
    "XRP_OUT_DATA_FOLDER = \"xrp-librosa-images/\"\n",
    "\n",
    "def visualize_series(timeseries, image_name, out_folder):\n",
    "    chroma = librosa.feature.chroma_stft(S=np.abs(librosa.stft(timeseries, n_fft=256)), sr=4000)\n",
    "    fig = plt.figure(frameon=False)\n",
    "    fig.set_size_inches(1, 1)\n",
    "    img = librosa.display.specshow(chroma)\n",
    "    fig.savefig(out_folder + image_name + '.png', bbox_inches='tight', pad_inches=0)\n",
    "    plt.close()\n",
    "    \n"
   ]
  },
  {
   "cell_type": "code",
   "execution_count": null,
   "metadata": {},
   "outputs": [],
   "source": [
    "btc = pd.read_csv(\"train_val_data/BTC_train.csv\", lineterminator='\\n')"
   ]
  },
  {
   "cell_type": "code",
   "execution_count": null,
   "metadata": {},
   "outputs": [],
   "source": [
    "for i in  tqdm(range(min(10000, btc.shape[0]))):\n",
    "    timeseries = np.array(btc.iloc[i, 1:], dtype='float32')\n",
    "    visualize_series(timeseries, str(i), BTC_OUT_DATA_FOLDER)"
   ]
  },
  {
   "cell_type": "code",
   "execution_count": 7,
   "metadata": {},
   "outputs": [],
   "source": [
    "eth = pd.read_csv(\"train_val_data/ETH_train.csv\", lineterminator='\\n')"
   ]
  },
  {
   "cell_type": "code",
   "execution_count": 9,
   "metadata": {},
   "outputs": [
    {
     "name": "stderr",
     "output_type": "stream",
     "text": [
      "  0%|                                                                                            | 0/10000 [00:00<?, ?it/s]<frozen importlib._bootstrap>:219: RuntimeWarning: scipy._lib.messagestream.MessageStream size changed, may indicate binary incompatibility. Expected 56 from C header, got 64 from PyObject\n",
      "  0%|                                                                                 | 1/10000 [00:04<13:50:17,  4.98s/it]/Users/mgaulia/miniforge3/envs/torch/lib/python3.8/site-packages/librosa/core/pitch.py:102: UserWarning: Trying to estimate tuning from empty frequency set.\n",
      "  return pitch_tuning(\n",
      "100%|████████████████████████████████████████████████████████████████████████████████| 10000/10000 [02:29<00:00, 66.99it/s]\n"
     ]
    }
   ],
   "source": [
    "for i in  tqdm(range(min(10000, eth.shape[0]))):\n",
    "    timeseries = np.array(eth.iloc[i, 1:], dtype='float32')\n",
    "    visualize_series(timeseries, str(i), ETH_OUT_DATA_FOLDER)"
   ]
  },
  {
   "cell_type": "code",
   "execution_count": 11,
   "metadata": {},
   "outputs": [],
   "source": [
    "xrp = pd.read_csv(\"train_val_data/XRP_train.csv\", lineterminator='\\n')"
   ]
  },
  {
   "cell_type": "code",
   "execution_count": 16,
   "metadata": {},
   "outputs": [
    {
     "name": "stderr",
     "output_type": "stream",
     "text": [
      "  0%|                                                                                    | 5/10000 [00:00<03:23, 49.17it/s]/Users/mgaulia/miniforge3/envs/torch/lib/python3.8/site-packages/librosa/core/pitch.py:102: UserWarning: Trying to estimate tuning from empty frequency set.\n",
      "  return pitch_tuning(\n",
      "100%|████████████████████████████████████████████████████████████████████████████████| 10000/10000 [02:32<00:00, 65.60it/s]\n"
     ]
    }
   ],
   "source": [
    "for i in  tqdm(range(min(10000, xrp.shape[0]))):\n",
    "    timeseries = np.array(xrp.iloc[i, 1:], dtype='float32')\n",
    "    visualize_series(timeseries, str(i), XRP_OUT_DATA_FOLDER)"
   ]
  }
 ],
 "metadata": {
  "kernelspec": {
   "display_name": "Python 3 (ipykernel)",
   "language": "python",
   "name": "python3"
  },
  "language_info": {
   "codemirror_mode": {
    "name": "ipython",
    "version": 3
   },
   "file_extension": ".py",
   "mimetype": "text/x-python",
   "name": "python",
   "nbconvert_exporter": "python",
   "pygments_lexer": "ipython3",
   "version": "3.8.13"
  },
  "vscode": {
   "interpreter": {
    "hash": "8f1957d44a30917a7bf0322a0e85d97261c65371db5f96a07c0b4a11b4461cf8"
   }
  }
 },
 "nbformat": 4,
 "nbformat_minor": 2
}
