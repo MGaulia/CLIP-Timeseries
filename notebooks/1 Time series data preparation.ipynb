{
 "cells": [
  {
   "cell_type": "code",
   "execution_count": 5,
   "id": "1e669c33",
   "metadata": {},
   "outputs": [],
   "source": [
    "import pandas as pd\n",
    "\n",
    "IN_DATA_FOLDER = \"raw_data/prices/\"\n",
    "OUT_DATA_FOLDER = \"clean_data/prices/\"\n",
    "\n",
    "def read_from_cryptodatadownload(filename):\n",
    "    # This particular site returns data with 1 row of their link to website\n",
    "    # Also the time series is in reverse so need to do adjustments\n",
    "    cols = [\"Date\", \"Open\", \"High\", \"Low\", \"Close\", \"Volume USDT\"]\n",
    "    df = pd.read_csv(filename, skiprows = 1, parse_dates = ['Date'])[::-1].reset_index(drop = True)\n",
    "    df = df[cols]\n",
    "    df = df.rename({'Volume USDT' : 'Volume'}, axis = 1)\n",
    "    return df"
   ]
  },
  {
   "cell_type": "markdown",
   "id": "6e4044b0",
   "metadata": {},
   "source": [
    "## Day"
   ]
  },
  {
   "cell_type": "code",
   "execution_count": 3,
   "id": "6345cf85",
   "metadata": {},
   "outputs": [],
   "source": [
    "read_from_cryptodatadownload(IN_DATA_FOLDER + \"Binance_BTCUSDT_d.csv\").to_csv(OUT_DATA_FOLDER + \"BTCUSDT_day.csv\", index = False)\n",
    "read_from_cryptodatadownload(IN_DATA_FOLDER + \"Binance_ETHUSDT_d.csv\").to_csv(OUT_DATA_FOLDER + \"ETHUSDT_day.csv\", index = False)\n",
    "read_from_cryptodatadownload(IN_DATA_FOLDER + \"Binance_XRPUSDT_d.csv\").to_csv(OUT_DATA_FOLDER + \"XRPUSDT_day.csv\", index = False)"
   ]
  },
  {
   "cell_type": "markdown",
   "id": "466ae70d",
   "metadata": {},
   "source": [
    "## Hour"
   ]
  },
  {
   "cell_type": "code",
   "execution_count": 4,
   "id": "533ba4ac",
   "metadata": {},
   "outputs": [],
   "source": [
    "read_from_cryptodatadownload(IN_DATA_FOLDER + \"Binance_BTCUSDT_1h.csv\").to_csv(OUT_DATA_FOLDER + \"BTCUSDT_hour.csv\", index = False)\n",
    "read_from_cryptodatadownload(IN_DATA_FOLDER + \"Binance_ETHUSDT_1h.csv\").to_csv(OUT_DATA_FOLDER + \"ETHUSDT_hour.csv\", index = False)\n",
    "read_from_cryptodatadownload(IN_DATA_FOLDER + \"Binance_XRPUSDT_1h.csv\").to_csv(OUT_DATA_FOLDER + \"XRPUSDT_hour.csv\", index = False)"
   ]
  },
  {
   "cell_type": "markdown",
   "id": "76560faf",
   "metadata": {},
   "source": [
    "## Minute"
   ]
  },
  {
   "cell_type": "code",
   "execution_count": 10,
   "id": "2883769d",
   "metadata": {},
   "outputs": [],
   "source": [
    "def read_minute_from_cryptodatadownload(ticker, year):\n",
    "    # This particular site returns data with 1 row of their link to website\n",
    "    # Also the time series is in reverse so need to do adjustments\n",
    "\n",
    "    filename = \"Binance_\" + ticker + \"USDT_\" + year + \"_minute.csv\"\n",
    "    cols = ['date', 'open', 'high', 'low', 'close', \"Volume USDT\"]\n",
    "    df = pd.read_csv(IN_DATA_FOLDER + filename, skiprows = 1, parse_dates = ['date'])[::-1].reset_index(drop = True)\n",
    "    df = df[cols]\n",
    "    df = df.rename({\n",
    "        \"Volume USDT\" : 'Volume',\n",
    "        'date' : 'Date',\n",
    "        'open' : 'Open',\n",
    "        'high' : 'High',\n",
    "        'low' : 'Low',\n",
    "        'close' : 'Close',\n",
    "    }, axis = 1)\n",
    "    return df"
   ]
  },
  {
   "cell_type": "code",
   "execution_count": 9,
   "id": "943f3258",
   "metadata": {},
   "outputs": [],
   "source": [
    "for ticker in [\"BTC\", \"ETH\", \"XRP\"]:\n",
    "    df = read_minute_from_cryptodatadownload(ticker, \"2021\")\n",
    "    df.to_csv(OUT_DATA_FOLDER + ticker + \"USDT_minute.csv\", index = False)    "
   ]
  }
 ],
 "metadata": {
  "kernelspec": {
   "display_name": "Python 3 (ipykernel)",
   "language": "python",
   "name": "python3"
  },
  "language_info": {
   "codemirror_mode": {
    "name": "ipython",
    "version": 3
   },
   "file_extension": ".py",
   "mimetype": "text/x-python",
   "name": "python",
   "nbconvert_exporter": "python",
   "pygments_lexer": "ipython3",
   "version": "3.8.13"
  },
  "vscode": {
   "interpreter": {
    "hash": "678790cdcacf2010aba7b81eb87e97d4f8d8a8b87d860ce48b049d46b72c3200"
   }
  }
 },
 "nbformat": 4,
 "nbformat_minor": 5
}
