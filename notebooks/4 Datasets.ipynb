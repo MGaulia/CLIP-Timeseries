{
 "cells": [
  {
   "cell_type": "code",
   "execution_count": null,
   "metadata": {},
   "outputs": [],
   "source": [
    "import pandas as pd\n",
    "from tqdm import tqdm\n",
    "from sklearn.model_selection import train_test_split\n",
    "\n",
    "TIME_SERIES_SIZE = 256\n",
    "IN_PRICES_DATA_FOLDER = \"clean_data/prices/\"\n",
    "IN_TWEETS_DATA_FOLDER = \"clean_data/tweets/\"\n",
    "OUT_DATA_FOLDER = \"train_val_data/\"\n",
    "USEROWS = 100000\n",
    "\n",
    "def prepare_dataset(ticker):\n",
    "    tweets = pd.read_csv(IN_TWEETS_DATA_FOLDER + ticker + \"_tweets.csv\", lineterminator='\\n', parse_dates=['timestamp']).head(USEROWS)\n",
    "    prices = pd.read_csv(IN_PRICES_DATA_FOLDER + ticker + \"USDT_minute.csv\", parse_dates=['Date'])\n",
    "    prices[\"price\"] = (prices.Open + prices.Close) / 2\n",
    "    timeseries = pd.DataFrame([], columns=[str(i) for i in range(TIME_SERIES_SIZE)])\n",
    "    indexes = []\n",
    "    for i in tqdm(range(tweets.timestamp.shape[0])):\n",
    "        tempdata = prices[prices.Date>=tweets.timestamp[i]].price.head(TIME_SERIES_SIZE)\n",
    "        tempdata = (100 * (tempdata / tempdata.iat[0] - 1))\n",
    "        if tempdata.shape[0] != 0:\n",
    "            indexes.append(i)\n",
    "            tempdf = pd.DataFrame(tempdata.array.reshape(1, TIME_SERIES_SIZE), columns=[str(i) for i in range(TIME_SERIES_SIZE)])\n",
    "            timeseries = pd.concat([timeseries, tempdf])\n",
    "    timeseries.reset_index(drop=True, inplace=True)\n",
    "    df =  pd.concat([tweets.iloc[indexes], timeseries], axis=1)\n",
    "    df = df.drop(['username', 'timestamp'], axis=1)\n",
    "    train, val = train_test_split(df, test_size=0.25, random_state=42)\n",
    "    train.to_csv(\"train_val_data/\" + ticker + \"_train.csv\", index=False)\n",
    "    val.to_csv(\"train_val_data/\" + ticker + \"_val.csv\", index=False)"
   ]
  },
  {
   "cell_type": "code",
   "execution_count": null,
   "metadata": {},
   "outputs": [],
   "source": [
    "for ticker in [\"BTC\", \"ETH\", \"XRP\"]:\n",
    "    prepare_dataset(ticker)"
   ]
  }
 ],
 "metadata": {
  "kernelspec": {
   "display_name": "Python 3 (ipykernel)",
   "language": "python",
   "name": "python3"
  },
  "language_info": {
   "codemirror_mode": {
    "name": "ipython",
    "version": 3
   },
   "file_extension": ".py",
   "mimetype": "text/x-python",
   "name": "python",
   "nbconvert_exporter": "python",
   "pygments_lexer": "ipython3",
   "version": "3.8.13"
  },
  "vscode": {
   "interpreter": {
    "hash": "678790cdcacf2010aba7b81eb87e97d4f8d8a8b87d860ce48b049d46b72c3200"
   }
  }
 },
 "nbformat": 4,
 "nbformat_minor": 2
}
