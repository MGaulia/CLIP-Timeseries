{
 "cells": [
  {
   "cell_type": "code",
   "execution_count": 59,
   "id": "4e5479a5",
   "metadata": {},
   "outputs": [],
   "source": [
    "import pandas as pd\n",
    "from tqdm import tqdm\n",
    "import os\n",
    "\n",
    "IN_DATA_FOLDER = 'raw_data/tweets/'\n",
    "OUT_DATA_FOLDER = 'clean_data/tweets/'\n",
    "TICKERS = [\"BTC\", \"ETH\", \"XRP\"]\n",
    "\n",
    "def clean_df(data):\n",
    "    # My collected data about tweets contains a lot of unusable information\n",
    "    # So removing that plus some sanity check filtering\n",
    "    df = data.copy()\n",
    "    df = df[df.language == 'en']\n",
    "    df[\"timestamp\"] = pd.to_datetime(df.date + \" \" + df.time)\n",
    "    df = df[['tweet', 'username', 'timestamp']]   \n",
    "    df = df.dropna()\n",
    "    df = df.reset_index(drop=True) \n",
    "    return df\n"
   ]
  },
  {
   "cell_type": "code",
   "execution_count": 60,
   "id": "f4f75a8b",
   "metadata": {},
   "outputs": [
    {
     "name": "stderr",
     "output_type": "stream",
     "text": [
      "100%|██████████| 273/273 [00:29<00:00,  9.12it/s]\n",
      "100%|██████████| 189/189 [00:13<00:00, 13.77it/s]\n",
      "100%|██████████| 236/236 [00:06<00:00, 35.00it/s]\n"
     ]
    }
   ],
   "source": [
    "for ticker in TICKERS:\n",
    "    files = [f for f in os.listdir(IN_DATA_FOLDER) if f.startswith(ticker)]\n",
    "    dfs = []\n",
    "    for f in tqdm(files):\n",
    "        temp = pd.read_csv(IN_DATA_FOLDER + f, engine='python')[['language', 'date', 'time','tweet', 'username']]\n",
    "        dfs.append(temp)\n",
    "    df = pd.concat(dfs)\n",
    "    df = clean_df(df)\n",
    "    df.to_csv(OUT_DATA_FOLDER + ticker + \"_tweets.csv\", index=False)"
   ]
  }
 ],
 "metadata": {
  "kernelspec": {
   "display_name": "Python 3 (ipykernel)",
   "language": "python",
   "name": "python3"
  },
  "language_info": {
   "codemirror_mode": {
    "name": "ipython",
    "version": 3
   },
   "file_extension": ".py",
   "mimetype": "text/x-python",
   "name": "python",
   "nbconvert_exporter": "python",
   "pygments_lexer": "ipython3",
   "version": "3.8.13"
  },
  "vscode": {
   "interpreter": {
    "hash": "678790cdcacf2010aba7b81eb87e97d4f8d8a8b87d860ce48b049d46b72c3200"
   }
  }
 },
 "nbformat": 4,
 "nbformat_minor": 5
}
